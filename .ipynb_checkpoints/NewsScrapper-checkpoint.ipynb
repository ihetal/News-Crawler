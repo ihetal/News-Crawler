{
 "cells": [
  {
   "cell_type": "markdown",
   "metadata": {},
   "source": [
    "#### Importing the necessary Libraries"
   ]
  },
  {
   "cell_type": "code",
   "execution_count": 17,
   "metadata": {},
   "outputs": [],
   "source": [
    "from newspaper import Article\n",
    "import newspaper\n",
    "from newspaper import news_pool\n",
    "import pandas as pd\n",
    "import re\n",
    "from datetime import datetime\n",
    "import seaborn as sns\n",
    "import matplotlib.pyplot as plt\n",
    "%matplotlib inline  "
   ]
  },
  {
   "cell_type": "markdown",
   "metadata": {},
   "source": [
    "#### List of new papers to crawl from"
   ]
  },
  {
   "cell_type": "code",
   "execution_count": 6,
   "metadata": {},
   "outputs": [],
   "source": [
    "#list of news papers to crawl and the categories to look for\n",
    "\n",
    "papers_dict = {   \n",
    "    'BBC': {\n",
    "        'URL':'http://www.bbc.com',\n",
    "    },\n",
    "    'BBC_UK': {\n",
    "        'URL':'http://www.bbc.co.uk',\n",
    "    },\n",
    "    'SLATE': {\n",
    "        'URL':'http://www.slate.com',\n",
    "    },\n",
    "    'GUARDIAN': {\n",
    "        'URL':'http://www.theguardian.com',\n",
    "    },\n",
    "    'BREITBRAT': {\n",
    "        'URL':'http://www.breitbart.com',\n",
    "    },\n",
    "    'NBC': {\n",
    "        'URL':'http://www.nbcnews.com',\n",
    "    },\n",
    "    'WASHINGTONPOST': {\n",
    "        'URL':'http://www.washingtonpost.com',\n",
    "    },\n",
    "    'USNEWS': {\n",
    "        'URL':'http://www.usnews.com/', \n",
    "    },\n",
    "    'NYTIMES': {\n",
    "        'URL':'http://www.nytimes.com/', \n",
    "    },\n",
    "    'USATODAY': {\n",
    "        'URL':'http://www.usatoday.com/', \n",
    "    },\n",
    "    'NYDAILYNEWS': {\n",
    "        'URL':'http://www.nydailynews.com', \n",
    "    },\n",
    "    'LATIMES': {\n",
    "        'URL':'http://www.latimes.com/', \n",
    "    },\n",
    "    'WALLSTREETJOURNAL': {\n",
    "        'URL':'http://www.wsj.com/', \n",
    "    },\n",
    "    'BUSINESS_STANDARD': {\n",
    "        'URL':'http://www.business-standard.com/', \n",
    "    }\n",
    "}\n"
   ]
  },
  {
   "cell_type": "code",
   "execution_count": 7,
   "metadata": {},
   "outputs": [],
   "source": [
    "def downloadContent(paper):\n",
    "    \n",
    "    patterns = ['/politics/','/tech/','/technology/','/sport/','/sports/','/business/','/entertainment/','/world/']\n",
    "    type = []\n",
    "    news = []\n",
    "    url =  []\n",
    "    count = 0\n",
    "    for article in paper.articles:\n",
    "        try:\n",
    "            for pattern in patterns:\n",
    "                if(re.search(pattern,article.url)):\n",
    "                    if article.url not in url:\n",
    "                        article.download()\n",
    "                        article.parse()\n",
    "                        if(len(article.text) > 350 and len(article.text)<6000):\n",
    "                            news.append(article.text)\n",
    "                            type.append(pattern[1:-1])\n",
    "                            url.append(article.url)\n",
    "                            count = count + 1\n",
    "        except Exception:\n",
    "            pass\n",
    "\n",
    "    print(\"No of articles crawled : \", count);\n",
    "    combined_data = {'category': type, 'news': news, 'url': url}\n",
    "    dataset = pd.DataFrame(combined_data)\n",
    "    return dataset"
   ]
  },
  {
   "cell_type": "code",
   "execution_count": 8,
   "metadata": {},
   "outputs": [
    {
     "name": "stdout",
     "output_type": "stream",
     "text": [
      "Crawling from:  http://www.bbc.com\n",
      "No of articles crawled :  9\n",
      "Crawling from:  http://www.bbc.co.uk\n",
      "No of articles crawled :  4\n",
      "Crawling from:  http://www.slate.com\n",
      "No of articles crawled :  13\n",
      "Crawling from:  http://www.theguardian.com\n",
      "No of articles crawled :  33\n",
      "Crawling from:  http://www.breitbart.com\n",
      "No of articles crawled :  344\n",
      "Crawling from:  http://www.nbcnews.com\n",
      "No of articles crawled :  0\n",
      "Crawling from:  http://www.washingtonpost.com\n",
      "No of articles crawled :  21\n",
      "Crawling from:  http://www.usnews.com/\n",
      "No of articles crawled :  20\n",
      "Crawling from:  http://www.nytimes.com/\n",
      "No of articles crawled :  20\n",
      "Crawling from:  http://www.usatoday.com/\n",
      "No of articles crawled :  80\n",
      "Crawling from:  http://www.nydailynews.com\n",
      "No of articles crawled :  29\n",
      "Crawling from:  http://www.latimes.com/\n",
      "No of articles crawled :  20\n",
      "Crawling from:  http://www.wsj.com/\n",
      "No of articles crawled :  1\n",
      "Crawling from:  http://www.business-standard.com/\n",
      "No of articles crawled :  68\n"
     ]
    }
   ],
   "source": [
    "result = pd.DataFrame()\n",
    "for name,value in papers_dict.items():\n",
    "    print(\"Crawling from: \", value['URL'])\n",
    "    paper = newspaper.build(value['URL'], language = 'en')\n",
    "    df = downloadContent(paper)\n",
    "    result = pd.concat([df, result], ignore_index=True, sort = False)"
   ]
  },
  {
   "cell_type": "code",
   "execution_count": 9,
   "metadata": {},
   "outputs": [],
   "source": [
    "# dropping ALL duplicate values \n",
    "result.drop_duplicates(subset =\"news\", \n",
    "                     keep = \"first\", inplace = True)\n",
    "result.loc[(result.category == 'technology'),'category']='tech'\n",
    "result.loc[(result.category == 'sports'),'category']='sport'"
   ]
  },
  {
   "cell_type": "code",
   "execution_count": 10,
   "metadata": {},
   "outputs": [
    {
     "data": {
      "text/html": [
       "<div>\n",
       "<style scoped>\n",
       "    .dataframe tbody tr th:only-of-type {\n",
       "        vertical-align: middle;\n",
       "    }\n",
       "\n",
       "    .dataframe tbody tr th {\n",
       "        vertical-align: top;\n",
       "    }\n",
       "\n",
       "    .dataframe thead th {\n",
       "        text-align: right;\n",
       "    }\n",
       "</style>\n",
       "<table border=\"1\" class=\"dataframe\">\n",
       "  <thead>\n",
       "    <tr style=\"text-align: right;\">\n",
       "      <th></th>\n",
       "      <th>category</th>\n",
       "      <th>news</th>\n",
       "      <th>url</th>\n",
       "    </tr>\n",
       "  </thead>\n",
       "  <tbody>\n",
       "    <tr>\n",
       "      <th>0</th>\n",
       "      <td>sport</td>\n",
       "      <td>India's swashbuckling opener was on Wednesday ...</td>\n",
       "      <td>http://www.business-standard.com/article/sport...</td>\n",
       "    </tr>\n",
       "    <tr>\n",
       "      <th>1</th>\n",
       "      <td>sport</td>\n",
       "      <td>India skipper and batting mainstay was on Wedn...</td>\n",
       "      <td>https://www.business-standard.com/article/spor...</td>\n",
       "    </tr>\n",
       "    <tr>\n",
       "      <th>2</th>\n",
       "      <td>entertainment</td>\n",
       "      <td>Best director – film: Sam Mendes, 1917 and Bes...</td>\n",
       "      <td>http://www.business-standard.com/article/enter...</td>\n",
       "    </tr>\n",
       "    <tr>\n",
       "      <th>3</th>\n",
       "      <td>sport</td>\n",
       "      <td>Former India opener Gautam Gambhir believes th...</td>\n",
       "      <td>http://www.business-standard.com/article/sport...</td>\n",
       "    </tr>\n",
       "    <tr>\n",
       "      <th>4</th>\n",
       "      <td>entertainment</td>\n",
       "      <td>Actor Deepika Padukone knows how to put up a b...</td>\n",
       "      <td>http://www.business-standard.com/article/enter...</td>\n",
       "    </tr>\n",
       "    <tr>\n",
       "      <th>5</th>\n",
       "      <td>tech</td>\n",
       "      <td>Chinese smartphone maker Huawei’s digital bran...</td>\n",
       "      <td>http://www.business-standard.com/article/techn...</td>\n",
       "    </tr>\n",
       "    <tr>\n",
       "      <th>6</th>\n",
       "      <td>tech</td>\n",
       "      <td>has received a patent in India for its technol...</td>\n",
       "      <td>http://www.business-standard.com/article/techn...</td>\n",
       "    </tr>\n",
       "    <tr>\n",
       "      <th>7</th>\n",
       "      <td>tech</td>\n",
       "      <td>The average Indian does two things immediately...</td>\n",
       "      <td>http://www.business-standard.com/article/techn...</td>\n",
       "    </tr>\n",
       "    <tr>\n",
       "      <th>8</th>\n",
       "      <td>tech</td>\n",
       "      <td>Technology giant Amazon is leaving no stone un...</td>\n",
       "      <td>http://www.business-standard.com/article/techn...</td>\n",
       "    </tr>\n",
       "    <tr>\n",
       "      <th>9</th>\n",
       "      <td>tech</td>\n",
       "      <td>officially ends support to Windows 7 after a d...</td>\n",
       "      <td>http://www.business-standard.com/article/techn...</td>\n",
       "    </tr>\n",
       "  </tbody>\n",
       "</table>\n",
       "</div>"
      ],
      "text/plain": [
       "        category                                               news  \\\n",
       "0          sport  India's swashbuckling opener was on Wednesday ...   \n",
       "1          sport  India skipper and batting mainstay was on Wedn...   \n",
       "2  entertainment  Best director – film: Sam Mendes, 1917 and Bes...   \n",
       "3          sport  Former India opener Gautam Gambhir believes th...   \n",
       "4  entertainment  Actor Deepika Padukone knows how to put up a b...   \n",
       "5           tech  Chinese smartphone maker Huawei’s digital bran...   \n",
       "6           tech  has received a patent in India for its technol...   \n",
       "7           tech  The average Indian does two things immediately...   \n",
       "8           tech  Technology giant Amazon is leaving no stone un...   \n",
       "9           tech  officially ends support to Windows 7 after a d...   \n",
       "\n",
       "                                                 url  \n",
       "0  http://www.business-standard.com/article/sport...  \n",
       "1  https://www.business-standard.com/article/spor...  \n",
       "2  http://www.business-standard.com/article/enter...  \n",
       "3  http://www.business-standard.com/article/sport...  \n",
       "4  http://www.business-standard.com/article/enter...  \n",
       "5  http://www.business-standard.com/article/techn...  \n",
       "6  http://www.business-standard.com/article/techn...  \n",
       "7  http://www.business-standard.com/article/techn...  \n",
       "8  http://www.business-standard.com/article/techn...  \n",
       "9  http://www.business-standard.com/article/techn...  "
      ]
     },
     "execution_count": 10,
     "metadata": {},
     "output_type": "execute_result"
    }
   ],
   "source": [
    "result.head(10)"
   ]
  },
  {
   "cell_type": "code",
   "execution_count": 32,
   "metadata": {},
   "outputs": [
    {
     "data": {
      "image/png": "[encoded data removed]",
      "text/plain": [
       "<Figure size 432x288 with 1 Axes>"
      ]
     },
     "metadata": {
      "needs_background": "light"
     },
     "output_type": "display_data"
    }
   ],
   "source": [
    "fig, ax = plt.subplots()\n",
    "ax =sns.countplot(x='category',data=result,palette='BrBG')\n",
    "plt.title('News Papers Crawled by Categories')\n",
    "plt.xlabel('')\n",
    "plt.ylabel('No of articles')\n",
    "\n",
    "plt.show()"
   ]
  },
  {
   "cell_type": "code",
   "execution_count": null,
   "metadata": {},
   "outputs": [],
   "source": []
  }
 ],
 "metadata": {
  "kernelspec": {
   "display_name": "Python 3",
   "language": "python",
   "name": "python3"
  },
  "language_info": {
   "codemirror_mode": {
    "name": "ipython",
    "version": 3
   },
   "file_extension": ".py",
   "mimetype": "text/x-python",
   "name": "python",
   "nbconvert_exporter": "python",
   "pygments_lexer": "ipython3",
   "version": "3.7.3"
  }
 },
 "nbformat": 4,
 "nbformat_minor": 2
}
